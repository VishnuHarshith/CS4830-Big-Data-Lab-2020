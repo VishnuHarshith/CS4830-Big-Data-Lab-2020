{
  "nbformat": 4,
  "nbformat_minor": 0,
  "metadata": {
    "colab": {
      "name": "MM16B009.ipynb",
      "provenance": [],
      "collapsed_sections": []
    },
    "kernelspec": {
      "name": "python3",
      "display_name": "Python 3"
    }
  },
  "cells": [
    {
      "cell_type": "code",
      "metadata": {
        "id": "t3SAbBhjEQD6",
        "colab_type": "code",
        "colab": {}
      },
      "source": [
        "import numpy as np\n",
        "import os\n",
        "import tempfile\n",
        "import keras\n",
        "from keras import backend as K\n",
        "from keras import layers\n",
        "from keras.datasets import mnist\n",
        "import tensorflow as tf"
      ],
      "execution_count": 0,
      "outputs": []
    },
    {
      "cell_type": "code",
      "metadata": {
        "id": "sJCjcjPzETMV",
        "colab_type": "code",
        "colab": {}
      },
      "source": [
        "def cnn_layers(inputs):\n",
        "    a = layers.Conv2D(32, (3, 3),\n",
        "                      activation='relu', padding='valid')(inputs)\n",
        "    a = layers.MaxPooling2D(pool_size=(2, 2))(a)\n",
        "    a = layers.Conv2D(64, (3, 3), activation='relu')(a)\n",
        "    a = layers.MaxPooling2D(pool_size=(2, 2))(a)\n",
        "    a = layers.Flatten()(a)\n",
        "    a = layers.Dense(512, activation='relu')(a)\n",
        "    a = layers.Dropout(0.5)(a)\n",
        "    preds = layers.Dense(num_classes,\n",
        "                               activation='softmax',\n",
        "                               name='a_train_out')(a)\n",
        "    return preds"
      ],
      "execution_count": 0,
      "outputs": []
    },
    {
      "cell_type": "code",
      "metadata": {
        "id": "gJztc2JyGItO",
        "colab_type": "code",
        "colab": {}
      },
      "source": [
        "batch_size = 512\n",
        "buffer_size = 10000\n",
        "steps_per_epoch = int(np.ceil(60000 / float(batch_size)))  \n",
        "epochs = 5\n",
        "num_classes = 10"
      ],
      "execution_count": 0,
      "outputs": []
    },
    {
      "cell_type": "code",
      "metadata": {
        "id": "zlnKpLLcGMiM",
        "colab_type": "code",
        "colab": {}
      },
      "source": [
        "(x_train, y_train), (x_test, y_test) = mnist.load_data()\n",
        "x_train = x_train.astype(np.float32) / 255\n",
        "x_train = np.expand_dims(x_train, -1)\n",
        "y_train = tf.one_hot(y_train, 10)"
      ],
      "execution_count": 0,
      "outputs": []
    },
    {
      "cell_type": "code",
      "metadata": {
        "id": "DgvyOimmGSfL",
        "colab_type": "code",
        "colab": {}
      },
      "source": [
        "# Create the dataset and its associated iterator.\n",
        "data = tf.data.Dataset.from_tensor_slices((x_train, y_train))\n",
        "data = data.repeat()\n",
        "data = data.shuffle(10000)\n",
        "data = data.batch(512)\n",
        "iterator = iter(data)"
      ],
      "execution_count": 0,
      "outputs": []
    },
    {
      "cell_type": "code",
      "metadata": {
        "id": "rqem-uLKGVGW",
        "colab_type": "code",
        "colab": {
          "base_uri": "https://localhost:8080/",
          "height": 469
        },
        "outputId": "d4f30832-9244-4e0a-e353-e76b24e9b81f"
      },
      "source": [
        "# Model creation using tensors from the get_next() graph node.\n",
        "inputs, targets = iterator.get_next()\n",
        "model_input = layers.Input(tensor=inputs)\n",
        "model_output = cnn_layers(model_input)\n",
        "model = keras.models.Model(inputs=model_input, outputs=model_output)\n",
        "model.compile(optimizer=keras.optimizers.RMSprop(lr=2e-3, decay=1e-5),loss='categorical_crossentropy',metrics=['accuracy'],target_tensors=[targets])\n",
        "model.summary()"
      ],
      "execution_count": 7,
      "outputs": [
        {
          "output_type": "stream",
          "text": [
            "Model: \"model_2\"\n",
            "_________________________________________________________________\n",
            "Layer (type)                 Output Shape              Param #   \n",
            "=================================================================\n",
            "input_2 (InputLayer)         (512, 28, 28, 1)          0         \n",
            "_________________________________________________________________\n",
            "conv2d_3 (Conv2D)            (512, 26, 26, 32)         320       \n",
            "_________________________________________________________________\n",
            "max_pooling2d_3 (MaxPooling2 (512, 13, 13, 32)         0         \n",
            "_________________________________________________________________\n",
            "conv2d_4 (Conv2D)            (512, 11, 11, 64)         18496     \n",
            "_________________________________________________________________\n",
            "max_pooling2d_4 (MaxPooling2 (512, 5, 5, 64)           0         \n",
            "_________________________________________________________________\n",
            "flatten_2 (Flatten)          (512, 1600)               0         \n",
            "_________________________________________________________________\n",
            "dense_2 (Dense)              (512, 512)                819712    \n",
            "_________________________________________________________________\n",
            "dropout_2 (Dropout)          (512, 512)                0         \n",
            "_________________________________________________________________\n",
            "x_train_out (Dense)          (512, 10)                 5130      \n",
            "=================================================================\n",
            "Total params: 843,658\n",
            "Trainable params: 843,658\n",
            "Non-trainable params: 0\n",
            "_________________________________________________________________\n"
          ],
          "name": "stdout"
        }
      ]
    },
    {
      "cell_type": "code",
      "metadata": {
        "id": "m9bkj7lDH2_x",
        "colab_type": "code",
        "colab": {
          "base_uri": "https://localhost:8080/",
          "height": 208
        },
        "outputId": "0739a924-75e9-44a8-c794-b1cab81c853e"
      },
      "source": [
        "model.fit(epochs=5,steps_per_epoch=int(np.ceil(60000 / float(batch_size))))"
      ],
      "execution_count": 8,
      "outputs": [
        {
          "output_type": "stream",
          "text": [
            "Epoch 1/5\n",
            "118/118 [==============================] - 43s 360ms/step - loss: 0.2006 - accuracy: 0.9412\n",
            "Epoch 2/5\n",
            "118/118 [==============================] - 42s 360ms/step - loss: 0.0371 - accuracy: 0.9959\n",
            "Epoch 3/5\n",
            "118/118 [==============================] - 43s 360ms/step - loss: 0.0146 - accuracy: 0.9979\n",
            "Epoch 4/5\n",
            "118/118 [==============================] - 42s 360ms/step - loss: 0.0175 - accuracy: 0.9978\n",
            "Epoch 5/5\n",
            "118/118 [==============================] - 47s 401ms/step - loss: 0.0089 - accuracy: 0.9984\n"
          ],
          "name": "stdout"
        },
        {
          "output_type": "execute_result",
          "data": {
            "text/plain": [
              "<keras.callbacks.callbacks.History at 0x7fc9d3bfa5f8>"
            ]
          },
          "metadata": {
            "tags": []
          },
          "execution_count": 8
        }
      ]
    },
    {
      "cell_type": "code",
      "metadata": {
        "id": "VCdNFtumGXsj",
        "colab_type": "code",
        "colab": {}
      },
      "source": [
        "# Save the model weights.\n",
        "weight_path = os.path.join(tempfile.gettempdir(), 'saved_wt.h5')\n",
        "model.save_weights(weight_path)\n",
        "\n",
        "# Clean up the TF session.\n",
        "K.clear_session()\n",
        "\n"
      ],
      "execution_count": 0,
      "outputs": []
    },
    {
      "cell_type": "code",
      "metadata": {
        "id": "y0YBxIY5GcWH",
        "colab_type": "code",
        "colab": {
          "base_uri": "https://localhost:8080/",
          "height": 469
        },
        "outputId": "2ed0f348-d12d-4ab2-d643-26bd9cd7812e"
      },
      "source": [
        "# Second session to test loading trained model without tensors.\n",
        "x_test = x_test.astype(np.float32)\n",
        "x_test = np.expand_dims(x_test, -1)\n",
        "\n",
        "x_test_inp = layers.Input(shape=x_test.shape[1:])\n",
        "test_out = cnn_layers(x_test_inp)\n",
        "test_model = keras.models.Model(inputs=x_test_inp, outputs=test_out)\n",
        "\n",
        "test_model.load_weights(weight_path)\n",
        "test_model.compile(optimizer='adam',loss='sparse_categorical_crossentropy',metrics=['accuracy'])\n",
        "test_model.summary()"
      ],
      "execution_count": 10,
      "outputs": [
        {
          "output_type": "stream",
          "text": [
            "Model: \"model_1\"\n",
            "_________________________________________________________________\n",
            "Layer (type)                 Output Shape              Param #   \n",
            "=================================================================\n",
            "input_1 (InputLayer)         (None, 28, 28, 1)         0         \n",
            "_________________________________________________________________\n",
            "conv2d_1 (Conv2D)            (None, 26, 26, 32)        320       \n",
            "_________________________________________________________________\n",
            "max_pooling2d_1 (MaxPooling2 (None, 13, 13, 32)        0         \n",
            "_________________________________________________________________\n",
            "conv2d_2 (Conv2D)            (None, 11, 11, 64)        18496     \n",
            "_________________________________________________________________\n",
            "max_pooling2d_2 (MaxPooling2 (None, 5, 5, 64)          0         \n",
            "_________________________________________________________________\n",
            "flatten_1 (Flatten)          (None, 1600)              0         \n",
            "_________________________________________________________________\n",
            "dense_1 (Dense)              (None, 512)               819712    \n",
            "_________________________________________________________________\n",
            "dropout_1 (Dropout)          (None, 512)               0         \n",
            "_________________________________________________________________\n",
            "x_train_out (Dense)          (None, 10)                5130      \n",
            "=================================================================\n",
            "Total params: 843,658\n",
            "Trainable params: 843,658\n",
            "Non-trainable params: 0\n",
            "_________________________________________________________________\n"
          ],
          "name": "stdout"
        }
      ]
    },
    {
      "cell_type": "code",
      "metadata": {
        "id": "OqLNV2MGITJ6",
        "colab_type": "code",
        "colab": {
          "base_uri": "https://localhost:8080/",
          "height": 69
        },
        "outputId": "b9a37c68-30ed-4724-bd36-9eb47fc5a507"
      },
      "source": [
        "loss, acc = test_model.evaluate(x_test, y_test, 10)\n",
        "print('\\nTest accuracy: {0}'.format(acc))"
      ],
      "execution_count": 11,
      "outputs": [
        {
          "output_type": "stream",
          "text": [
            "10000/10000 [==============================] - 4s 381us/step\n",
            "\n",
            "Test accuracy: 0.9487000107765198\n"
          ],
          "name": "stdout"
        }
      ]
    },
    {
      "cell_type": "code",
      "metadata": {
        "id": "IJ9dgxtHMp0A",
        "colab_type": "code",
        "colab": {}
      },
      "source": [
        ""
      ],
      "execution_count": 0,
      "outputs": []
    }
  ]
}